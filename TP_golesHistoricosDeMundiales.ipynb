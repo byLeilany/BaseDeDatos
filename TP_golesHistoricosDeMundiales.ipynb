{
  "nbformat": 4,
  "nbformat_minor": 0,
  "metadata": {
    "colab": {
      "provenance": []
    },
    "kernelspec": {
      "name": "python3",
      "display_name": "Python 3"
    },
    "language_info": {
      "name": "python"
    }
  },
  "cells": [
    {
      "cell_type": "markdown",
      "source": [
        "# Primera consigna\n",
        "\n",
        "1. Construir un ranking de los mundiales por cantidad de goles anotados en promedio por partido (por ejemplo, en una lista).\n"
      ],
      "metadata": {
        "id": "oPF6q1Ihk1rS"
      }
    },
    {
      "cell_type": "code",
      "source": [
        "import pandas as pd\n",
        "import numpy as np\n",
        "import matplotlib.pyplot as plt\n",
        "from google.colab import drive"
      ],
      "metadata": {
        "id": "EcgiGlL58rNz"
      },
      "execution_count": null,
      "outputs": []
    },
    {
      "cell_type": "code",
      "execution_count": null,
      "metadata": {
        "id": "IjcYRGgykdtF",
        "colab": {
          "base_uri": "https://localhost:8080/"
        },
        "outputId": "398c8210-92c3-437d-880f-245804c6a783"
      },
      "outputs": [
        {
          "output_type": "stream",
          "name": "stdout",
          "text": [
            "Drive already mounted at /content/drive; to attempt to forcibly remount, call drive.mount(\"/content/drive\", force_remount=True).\n"
          ]
        }
      ],
      "source": [
        "drive.mount('/content/drive')\n",
        "\n",
        "wcMatches = '/content/drive/MyDrive/LaboDatos2022/PrimeraEjercitacion/WorldCupMatches.csv'\n",
        "wcPlayers = '/content/drive/MyDrive/LaboDatos2022/PrimeraEjercitacion/WorldCupPlayers.csv'\n",
        "\n",
        "#Comienzo cargando los .csv de drive\n",
        "dfMatches = pd.read_csv(wcMatches)\n",
        "dfPlayers = pd.read_csv(wcPlayers)\n",
        "\n",
        "#Para ambos hago una copia para no afectar los archivos en drive y pido que quite filas con todo NaN y filas duplicadas\n",
        "dfMatchesSinNaN = dfMatches.dropna(how = 'all').copy()\n",
        "dfMatchesSinNaN.drop_duplicates(inplace = True)\n",
        "dfPlayersSinNaN = dfPlayers.dropna(how = 'all').copy()\n",
        "dfPlayersSinNaN.drop_duplicates(inplace = True)"
      ]
    },
    {
      "cell_type": "code",
      "source": [
        "#Primero debo obtengo lista de years distintos de los partidos\n",
        "yearsDistintos = list(dfMatchesSinNaN['Year'].unique())\n",
        "\n",
        "#Y para cada year distinto quiero contar cuantos goles y cuantos partidos hubieron en total\n",
        "meanGoles = []\n",
        "\n",
        "for year in yearsDistintos:\n",
        "  cantPartidos = 0\n",
        "  goles = 0\n",
        "\n",
        "#Para todo año distinto, comparo si ese partido es del year que estoy viendo. Por cada partido de ese year que coincide,\n",
        "#le suma  1 a la cant de partidos, y en goles suma la cant de goles que hicieron ambos equipos\n",
        "  for i in dfMatchesSinNaN['Year'].index:\n",
        "    if dfMatchesSinNaN['Year'][i] == year:\n",
        "      cantPartidos = cantPartidos + 1\n",
        "      goles = goles + dfMatchesSinNaN['Home Team Goals'][i] + dfMatchesSinNaN['Away Team Goals'][i]\n",
        "\n",
        "  #luego calculo el promedio de goles ese year, y se lo agrego a la lista de meanGoles\n",
        "  promedioPorYear = goles / cantPartidos\n",
        "  meanGoles.append(promedioPorYear)\n",
        "\n",
        "\n",
        "#Notar que para un i en yearsDistintos, si busco ese elemento i en meanGoles corresponde al promedio de goles en\n",
        "#ese i-esimo year del mundial\n",
        "data = {'Year':yearsDistintos, 'meanGoles': meanGoles}\n",
        "dfRanking = pd.DataFrame(data)\n",
        "\n",
        "#y debo ordenar mi dfRanking en orden decreciente de la columna meanGoles\n",
        "dfRanking.sort_values(by = 'meanGoles', ascending=False, ignore_index=True, inplace = True)\n",
        "print(dfRanking)"
      ],
      "metadata": {
        "colab": {
          "base_uri": "https://localhost:8080/"
        },
        "id": "p8xk45x5wCQK",
        "outputId": "f43ebcf4-d071-4783-cf7b-3f70924073e6"
      },
      "execution_count": null,
      "outputs": [
        {
          "output_type": "stream",
          "name": "stdout",
          "text": [
            "      Year  meanGoles\n",
            "0   1954.0   5.384615\n",
            "1   1938.0   4.666667\n",
            "2   1934.0   4.117647\n",
            "3   1950.0   4.000000\n",
            "4   1930.0   3.888889\n",
            "5   1958.0   3.600000\n",
            "6   1970.0   2.968750\n",
            "7   1982.0   2.807692\n",
            "8   1962.0   2.781250\n",
            "9   1966.0   2.781250\n",
            "10  1994.0   2.711538\n",
            "11  1978.0   2.684211\n",
            "12  1998.0   2.671875\n",
            "13  2014.0   2.671875\n",
            "14  1974.0   2.552632\n",
            "15  1986.0   2.538462\n",
            "16  2002.0   2.515625\n",
            "17  2006.0   2.296875\n",
            "18  2010.0   2.265625\n",
            "19  1990.0   2.211538\n"
          ]
        }
      ]
    },
    {
      "cell_type": "markdown",
      "source": [
        "2. Hacer un gráfico de barras donde en el eje Y figura la cantidad promedio de goles y en el X aparecen los mundiales, ordenados de izquierda a derecha en cantidad decreciente de goles"
      ],
      "metadata": {
        "id": "XCLIVmuEk4-s"
      }
    },
    {
      "cell_type": "code",
      "source": [
        "#cosas por estetica para que la lista de floats de los años sea una lista de strings de ints(?)\n",
        "nums = [int(x) for x in list(dfRanking['Year'])]\n",
        "years = [str(x) for x in nums]\n",
        "meanGol = list(dfRanking['meanGoles'])\n",
        "\n",
        "my_cmap = plt.get_cmap(\"magma\")\n",
        "rescale = lambda y: (np.max(y) - y) / (np.max(y) - np.min(y))\n",
        "\n",
        "fig = plt.figure()\n",
        "ax = fig.add_axes([0,0,2.2,1])\n",
        "ax.set_ylabel('Cantidad promedio de goles')\n",
        "ax.set_xlabel('Mundial')\n",
        "ax.bar(years, meanGol, color=my_cmap(rescale(meanGol)))\n",
        "plt.show()"
      ],
      "metadata": {
        "id": "KYrQTDxAlHWO",
        "colab": {
          "base_uri": "https://localhost:8080/",
          "height": 350
        },
        "outputId": "6862cd72-b75f-45cb-c448-4d63a75d1acd"
      },
      "execution_count": null,
      "outputs": [
        {
          "output_type": "display_data",
          "data": {
            "text/plain": [
              "<Figure size 432x288 with 1 Axes>"
            ],
            "image/png": "[encoded data removed]"
          },
          "metadata": {
            "needs_background": "light"
          }
        }
      ]
    },
    {
      "cell_type": "markdown",
      "source": [
        "# Segunda consigna\n",
        "\n",
        "2. Construir un ranking de los países que más partidos ganaron por penales. Representarlo en un gráfico igual que en la consigna anterior.\n"
      ],
      "metadata": {
        "id": "eD6zW4jdlEZq"
      }
    },
    {
      "cell_type": "code",
      "source": [
        "#paises que mas partidos ganaron por penales\n",
        "#o sea quiero obtener una lista con columnas: Paises distintos, cantidad de partidos ganados por penales\n",
        "\n",
        "#Primero descarto todos los partidos que no tengan en su Win Conditions la palabra 'penalties'\n",
        "\n",
        "ganarPorPenal = dfMatchesSinNaN['Win conditions'].copy()\n",
        "\n",
        "for i in ganarPorPenal.index:\n",
        "  if 'penalties' not in ganarPorPenal[i]:\n",
        "    ganarPorPenal.drop(i, inplace=True)\n",
        "  else:\n",
        "    iDeParentesis = ganarPorPenal[i].rfind(' win') #obtengo indice en string donde está la frase ' win'\n",
        "    ganarPorPenal[i] = ganarPorPenal[i][:iDeParentesis] #y borro todo lo que esté depués para solo quedarme con el país\n",
        "\n",
        "#lo bueno de tener ganarPorPenal como una copia de una columna, es que si veo ganarPorPenal.index tengo los indices del\n",
        "#dfMatches de los partidos que ganaron por penal\n",
        "\n",
        "#y tengo que arreglar los casos contados que no aclaraba que pais ganó, para ello busco sus índices\n",
        "#Y el que tenga mayor goles por penal lo asigno como ganador y le agrego el nombre del pais a la columna ganarPorPenal\n",
        "vacioIndice = list(ganarPorPenal[ganarPorPenal == ''].index)\n",
        "\n",
        "for k in vacioIndice:\n",
        "  res = []\n",
        "\n",
        "  for i in dfMatchesSinNaN['Win conditions'][k]: #siempre sucede que figura como '(Goles Home Team - Goles Away Team)'\n",
        "    if i.isdigit():\n",
        "      res.append(i) #asi que por cada numero que aparezca en el string, lo guardo en ese orden en res.\n",
        "\n",
        "  #O sea, que res tiene la pinta [Goles de Home Team, Goles de Away Team]\n",
        "\n",
        "  if res[0] > res[1]:\n",
        "    ganarPorPenal[k] = dfMatchesSinNaN['Home Team Name'][k]\n",
        "  else:\n",
        "    ganarPorPenal[k] = dfMatchesSinNaN['Away Team Name'][k]\n",
        "\n",
        "\n",
        "a = list(ganarPorPenal[ganarPorPenal == 'Germany FR'].index)\n",
        "ganarPorPenal[a] = 'Germany' #para homogenizar a todos los Germany en uno solo\n",
        "#print(ganarPorPenal[ganarPorPenal == 'Republic of Ireland'].index) #Busco indice de ese caso\n",
        "ganarPorPenal[452] = 'Ireland' #xq no queda bien ese nombre tan largo en la grafica\n",
        "\n",
        "#print(ganarPorPenal)"
      ],
      "metadata": {
        "id": "0ZfPrt_KlHzZ"
      },
      "execution_count": null,
      "outputs": []
    },
    {
      "cell_type": "code",
      "source": [
        "#Luego ordeno mi dfRanking en orden decreciente de la columna meanGoles\n",
        "winsPorPenal = []\n",
        "paises = [] #todos los distintos paises que alguna vez han ganado por penalties, sin repeticion\n",
        "\n",
        "for i in ganarPorPenal:\n",
        "  if i not in paises:\n",
        "    paises.append(i)\n",
        "\n",
        "#basicamente haciendo un value counts ya que por cada pais veo cuantos partidos ganaron por penal\n",
        "for pais in paises:\n",
        "  partidosW = 0\n",
        "  for j in ganarPorPenal.index:\n",
        "    if pais == ganarPorPenal[j]:\n",
        "      partidosW = partidosW +1\n",
        "  winsPorPenal.append(partidosW)\n",
        "\n",
        "#igual que grafica anterior, coincide en este diccionario que i-esimo pais tiene su cantidad de partidos ganadas por goles\n",
        "#en el i-esimo elemento de winPorPenal\n",
        "data = {'Paises':paises, 'winsPorPenal': winsPorPenal}\n",
        "dfData = pd.DataFrame(data)\n",
        "dfData.sort_values(by = 'winsPorPenal', ascending=False, ignore_index=True, inplace = True)\n",
        "print(dfData)\n",
        "print('Han habido '+ str(sum(winsPorPenal))+' partidos ganados por penal ')"
      ],
      "metadata": {
        "colab": {
          "base_uri": "https://localhost:8080/"
        },
        "id": "ThTe2PtN-jHy",
        "outputId": "c4801e80-d9a2-4863-90c9-d2649274085c"
      },
      "execution_count": null,
      "outputs": [
        {
          "output_type": "stream",
          "name": "stdout",
          "text": [
            "            Paises  winsPorPenal\n",
            "0          Germany             4\n",
            "1        Argentina             4\n",
            "2           Brazil             3\n",
            "3           France             2\n",
            "4          Ukraine             1\n",
            "5      Netherlands             1\n",
            "6          Uruguay             1\n",
            "7         Paraguay             1\n",
            "8            Italy             1\n",
            "9         Portugal             1\n",
            "10           Spain             1\n",
            "11  Korea Republic             1\n",
            "12          Sweden             1\n",
            "13        Bulgaria             1\n",
            "14         Ireland             1\n",
            "15         Belgium             1\n",
            "16      Costa Rica             1\n",
            "Han habido 26 partidos ganados por penal \n"
          ]
        }
      ]
    },
    {
      "cell_type": "code",
      "source": [
        "my_cmap = plt.get_cmap(\"plasma\")\n",
        "rescale = lambda y: (np.max(y) - y) / (np.max(y) - np.min(y))\n",
        "\n",
        "fig = plt.figure()\n",
        "ax = fig.add_axes([0,0,2.5,1])\n",
        "ax.set_xlabel('País')\n",
        "ax.set_ylabel('Partidos Ganados Por Penal')\n",
        "ax.bar(dfData['Paises'], dfData['winsPorPenal'], color = 'pink')#, color=my_cmap(rescale(dataSorted['winsPorPenal'])))\n",
        "plt.show()"
      ],
      "metadata": {
        "colab": {
          "base_uri": "https://localhost:8080/",
          "height": 334
        },
        "id": "NRI8YxUAhNG0",
        "outputId": "d5727c4e-e41e-4d32-bf28-89df80d78186"
      },
      "execution_count": null,
      "outputs": [
        {
          "output_type": "display_data",
          "data": {
            "text/plain": [
              "<Figure size 432x288 with 1 Axes>"
            ],
            "image/png": "[encoded data removed]"
          },
          "metadata": {
            "needs_background": "light"
          }
        }
      ]
    },
    {
      "cell_type": "markdown",
      "source": [
        "3. ¿Quién fue el arquero que más partidos ganó por penales?\n"
      ],
      "metadata": {
        "id": "p-UKLHM1lICA"
      }
    },
    {
      "cell_type": "code",
      "source": [
        "#solo me interesan los arqueros, no todos los jugadores\n",
        "arqueros = dfPlayersSinNaN[dfPlayersSinNaN['Position'] != 'C'].copy()\n",
        "arqueros.dropna(subset = ['Position'], inplace = True) #asi me quedo con todos los GK y GKC\n",
        "\n",
        "#ahora busco los arqueros que coinciden con MatchID de los 26 partidos que se decidieron por penales\n",
        "i_en_dfMatches = list(ganarPorPenal.index)\n",
        "matchesDecididosPorPenal = dfMatchesSinNaN.loc[i_en_dfMatches].copy()\n",
        "\n",
        "#ahora tengo una lista con los ID unicos de los Matches ganados por penal\n",
        "matchIDPartidosDePenales = list(matchesDecididosPorPenal['MatchID'].unique())\n",
        "idPPint = [int(x) for x in matchIDPartidosDePenales]\n",
        "\n",
        "#Si coincide que eres un arquero pero no jugó en un partido ganado por penal, lo dropea de mi lista de arqueros\n",
        "for i in arqueros.index:\n",
        "  if arqueros['MatchID'][i] not in idPPint:\n",
        "    arqueros.drop(i, inplace = True)\n",
        "\n",
        "print(len(idPPint))\n",
        "print(arqueros.shape)"
      ],
      "metadata": {
        "id": "-LLn8PyJlMpU",
        "colab": {
          "base_uri": "https://localhost:8080/"
        },
        "outputId": "91e38992-fc43-4b1f-d1ee-6cc857f6cc40"
      },
      "execution_count": null,
      "outputs": [
        {
          "output_type": "stream",
          "name": "stdout",
          "text": [
            "26\n",
            "(85, 9)\n"
          ]
        }
      ]
    },
    {
      "cell_type": "code",
      "source": [
        "#y como me estresa más adelante la diferencia en iniciales,\n",
        "#hago que las iniciales de Germany FR, coincidan con GER de Germany\n",
        "arqueros['Team Initials'][arqueros['Team Initials'] == 'FRG'] = 'GER'"
      ],
      "metadata": {
        "id": "uiaWELeeeRKd",
        "colab": {
          "base_uri": "https://localhost:8080/"
        },
        "outputId": "39bc38ea-00de-4ea2-92ba-6d012f8d4f1d"
      },
      "execution_count": null,
      "outputs": [
        {
          "output_type": "stream",
          "name": "stderr",
          "text": [
            "/usr/local/lib/python3.7/dist-packages/ipykernel_launcher.py:3: SettingWithCopyWarning: \n",
            "A value is trying to be set on a copy of a slice from a DataFrame\n",
            "\n",
            "See the caveats in the documentation: https://pandas.pydata.org/pandas-docs/stable/user_guide/indexing.html#returning-a-view-versus-a-copy\n",
            "  This is separate from the ipykernel package so we can avoid doing imports until\n"
          ]
        }
      ]
    },
    {
      "cell_type": "code",
      "source": [
        "#ahora me tengo que quedar con solo los arqueros del equipo ganador\n",
        "pW = list(ganarPorPenal) #rehuso lista de item anterior que me dice cual pais fue el que ganó por penales\n",
        "matchesDecididosPorPenal = matchesDecididosPorPenal.assign(winnerPais=pW)\n",
        "\n",
        "print(list(matchesDecididosPorPenal.columns))\n",
        "print(list(arqueros.columns))"
      ],
      "metadata": {
        "colab": {
          "base_uri": "https://localhost:8080/"
        },
        "id": "I6JTj8YxSC2h",
        "outputId": "6e2486fd-24b3-42b2-d1a8-aca458e964f0"
      },
      "execution_count": null,
      "outputs": [
        {
          "output_type": "stream",
          "name": "stdout",
          "text": [
            "['Year', 'Datetime', 'Stage', 'Stadium', 'City', 'Home Team Name', 'Home Team Goals', 'Away Team Goals', 'Away Team Name', 'Win conditions', 'Attendance', 'Half-time Home Goals', 'Half-time Away Goals', 'Referee', 'Assistant 1', 'Assistant 2', 'RoundID', 'MatchID', 'Home Team Initials', 'Away Team Initials', 'winnerPais']\n",
            "['RoundID', 'MatchID', 'Team Initials', 'Coach Name', 'Line-up', 'Shirt Number', 'Player Name', 'Position', 'Event']\n"
          ]
        }
      ]
    },
    {
      "cell_type": "code",
      "source": [
        "def dameInicialesDelW(k):\n",
        "\n",
        "  if k['winnerPais'][:2].upper() == k['Home Team Initials'][:2]:\n",
        "    res = k['Home Team Initials']\n",
        "  else:\n",
        "    res = k['Away Team Initials']\n",
        "\n",
        "  if k['winnerPais'] == 'Spain':\n",
        "    res = 'ESP'\n",
        "  if k['winnerPais'] == 'Germany':\n",
        "    res = 'GER'\n",
        "\n",
        "\n",
        "  return res\n",
        "\n",
        "for i in arqueros.index: #veo por cada uno de los 85 arqueros que tengo\n",
        "  enQuePartidoEstuvoGK = arqueros['MatchID'][i] #tomo en que partido ID estuvo\n",
        "\n",
        "  for j in matchesDecididosPorPenal.index: #y veo por cada ID de partido unico ganado por penal que existe\n",
        "    if matchesDecididosPorPenal['MatchID'].loc[j] == enQuePartidoEstuvoGK: #si es igual al del arquero que estoy viendo\n",
        "      partidoConPenal = matchesDecididosPorPenal.loc[j]\n",
        "      break\n",
        "\n",
        "\n",
        "  inicialesW = dameInicialesDelW(partidoConPenal) #tomo las iniciales del equipo que ganó ese partido\n",
        "\n",
        "  if inicialesW != arqueros['Team Initials'].loc[i]: #si NO son las iniciales del arquero que estoy viendo, lo dropeo\n",
        "    arqueros.drop(i, inplace = True) #xq ese arquero, fue del equipo perdedor\n",
        "\n",
        "print(arqueros.shape) #me quedan entonces 43 arqueros de los equipos que ganaron en partidos decididos por penal\n",
        "\n",
        "print(len(list(arqueros['MatchID'].unique()))) #siguen habiendo arqueros de todos los 26 matches decididos con penales\n"
      ],
      "metadata": {
        "colab": {
          "base_uri": "https://localhost:8080/"
        },
        "id": "IV9dRUqjI441",
        "outputId": "63789094-518c-4bd0-b3c4-f4f7b4687f6d"
      },
      "execution_count": null,
      "outputs": [
        {
          "output_type": "stream",
          "name": "stdout",
          "text": [
            "(43, 9)\n",
            "26\n"
          ]
        }
      ]
    },
    {
      "cell_type": "code",
      "source": [
        "#me quedo con los arqueros tit (xq ya corrobore en la pag de fifa que efectivamente en los matches donde habia mas de un GK,\n",
        "#el partido comenzaba con el GK tit) a menos de que tenga una 'O' en evento que significa que lo sacaron,\n",
        "#y dejo entonces a el suplente que que tenga 'I' en evento\n",
        "\n",
        "#resumen: me quedo con el tit a menos que se demuestre lo contrario\n",
        "\n",
        "for i in arqueros.index:\n",
        "  if type(arqueros['Event'].loc[i]) != str: #primero veo si hubo algun evento que puede ser I o O del partido\n",
        "    if arqueros['Line-up'].loc[i] != 'S': #si no tuvo ningun evento, me quedo con el tit\n",
        "      arqueros.drop(i, inplace = True)\n",
        "  elif 'O' in arqueros['Event'].loc[i]: #si hubo evento, me quedo con el que NO tenga 'O' (el que haya quedado I pues)\n",
        "    arqueros.drop(i, inplace = True)\n",
        "\n",
        "#El resto de este código es sólo por estética para que imprima lindo la respuesta\n",
        "rta = list(arqueros['Player Name'].unique())\n",
        "cant = []\n",
        "\n",
        "for i in rta:\n",
        "  a = len(list(arqueros[arqueros['Player Name'] == i].index))\n",
        "  cant.append(a)\n",
        "\n",
        "dta = {'jugador' : rta, 'matchXPenal' : cant}\n",
        "dta = pd.DataFrame(dta)\n",
        "dta.sort_values(by = 'matchXPenal', ascending = False, ignore_index = True, inplace = True)\n",
        "\n",
        "maxMatchWs = dta['matchXPenal'].loc[0]\n",
        "\n",
        "arquerosGanadores = []\n",
        "for i in dta.index:\n",
        "  if dta['matchXPenal'].loc[i] == maxMatchWs:\n",
        "    arquerosGanadores.append(dta['jugador'].loc[i])\n",
        "  else:\n",
        "    break\n",
        "\n",
        "print('RESPUESTA:')\n",
        "print('1er puesto con más partidos por penales ganados, quedó para: ')\n",
        "print(arquerosGanadores)\n",
        "print('')\n",
        "print('Y el ranking de arqueros por partidos ganados por penales: ')\n",
        "print(dta)"
      ],
      "metadata": {
        "colab": {
          "base_uri": "https://localhost:8080/"
        },
        "id": "n4A91R1JTj9f",
        "outputId": "8b083687-b7fb-488e-b051-7d18ed6c9a43"
      },
      "execution_count": null,
      "outputs": [
        {
          "output_type": "stream",
          "name": "stdout",
          "text": [
            "RESPUESTA:\n",
            "1er puesto con más partidos por penales ganados, quedó para: \n",
            "['Harald SCHUMACHER', 'Sergio GOYCOCHEA', 'TAFFAREL']\n",
            "\n",
            "Y el ranking de arqueros por partidos ganados por penales: \n",
            "              jugador  matchXPenal\n",
            "0   Harald SCHUMACHER            2\n",
            "1    Sergio GOYCOCHEA            2\n",
            "2            TAFFAREL            2\n",
            "3         SHOVKOVSKYI            1\n",
            "4                KRUL            1\n",
            "5              ROMERO            1\n",
            "6         JULIO CESAR            1\n",
            "7             MUSLERA            1\n",
            "8           J. VILLAR            1\n",
            "9              BUFFON            1\n",
            "10            RICARDO            1\n",
            "11            LEHMANN            1\n",
            "12           CASILLAS            1\n",
            "13            W J LEE            1\n",
            "14          Joel BATS            1\n",
            "15     Fabien BARTHEZ            1\n",
            "16         Carlos ROA            1\n",
            "17     Thomas RAVELLI            1\n",
            "18  Borislav MIHAYLOV            1\n",
            "19       Bodo ILLGNER            1\n",
            "20         Pat BONNER            1\n",
            "21   Jean Marie PFAFF            1\n",
            "22           KARNEZIS            1\n"
          ]
        }
      ]
    },
    {
      "cell_type": "markdown",
      "source": [
        "# Tercera consigna\n",
        "\n",
        "4. Construir un histograma que muestra como están distribuidos los goles a lo largo de la duración de un partido. Es decir, armar un gráfico que divida los '90 minutos de un partido en bines de 4 minutos en el eje X, y que tenga en el eje Y la cantidad total de goles anotados en el bin correspondiente."
      ],
      "metadata": {
        "id": "VrLWpGwflKrm"
      }
    },
    {
      "cell_type": "code",
      "source": [
        "print(dfMatchesSinNaN.shape)\n",
        "print(dfPlayersSinNaN.shape)\n",
        "temp = (dfMatchesSinNaN.copy()).drop(labels = 'RoundID', axis = 1)\n",
        "#combino ambos csv mediante la columna MatchID y confirmo que haya misma cant de filas en el df final que en el de players\n",
        "dfPyM = dfPlayersSinNaN.merge(temp, on = 'MatchID', how = 'inner', copy = False).copy()\n",
        "print(dfPyM.shape)"
      ],
      "metadata": {
        "id": "HHCMZ2talPXc",
        "colab": {
          "base_uri": "https://localhost:8080/"
        },
        "outputId": "893a9ab2-3299-4b6d-d662-c62eccf81ba5"
      },
      "execution_count": null,
      "outputs": [
        {
          "output_type": "stream",
          "name": "stdout",
          "text": [
            "(836, 20)\n",
            "(37048, 9)\n",
            "(37048, 27)\n"
          ]
        }
      ]
    },
    {
      "cell_type": "code",
      "source": [
        "df = dfPyM.copy()\n",
        "\n",
        "def queSoloHayaGol(s):\n",
        "  if type(s) == str and ('G' in s or 'P' in s or 'W' in s):\n",
        "    a = dameMinDelGol(s.split())\n",
        "    return a\n",
        "  else:\n",
        "    return [999] #pongo esta lista con un valor que es imposible que sea un min de gol en futbol para poder eliminarlo despues\n",
        "\n",
        "def dameMinDelGol(lista):\n",
        "  a = []\n",
        "  for i in np.arange(0, len(lista)):\n",
        "    if ('G' in lista[i]) or ('P' in lista[i]) or ('W' in lista[i]):\n",
        "\n",
        "      if 'MP' not in lista[i]: #porque significaria que falló el penal\n",
        "        a.append(int(lista[i][1:len(lista[i])-1])) #que me pase a int el numero sin la letra al inicio y sin el ' al final\n",
        "\n",
        "  return a\n",
        "\n",
        "#Obtengo para cada indice, una lista con los mins donde hubieron gol/es\n",
        "losGoles = df['Event'].copy().apply(queSoloHayaGol)"
      ],
      "metadata": {
        "id": "vWQ-UvSyrZa2"
      },
      "execution_count": null,
      "outputs": []
    },
    {
      "cell_type": "code",
      "source": [
        "#Elimino los casos donde no hubo gol de la lista\n",
        "iTemp = []\n",
        "for i in losGoles.index:\n",
        "  if losGoles[i] == [999]:\n",
        "    iTemp.append(i)\n",
        "\n",
        "losGoles.drop(iTemp, inplace = True)\n",
        "#y ahora si, tengo una lista que me dice indice de jugador que anotó gol/es, y una lista del min cuando lo hizo\n",
        "print(losGoles.shape)\n",
        "\n",
        "#Ahora calculo cuantos goles hubo en cada franja de 4 min hasta los 90 min\n",
        "x = np.arange(4, 90, 4)\n",
        "#Hago de 2 min la ultima franja\n",
        "x = np.append(x, 90)\n",
        "print(x)\n",
        "y = np.zeros(len(x))\n",
        "\n",
        "for i in losGoles.index:\n",
        "  for k in losGoles[i]:\n",
        "    for j in np.arange(0,len(x)):\n",
        "      if(k <= x[j]):\n",
        "        y[j] = y[j] + 1\n",
        "        break\n",
        "\n",
        "print(sum(y))"
      ],
      "metadata": {
        "colab": {
          "base_uri": "https://localhost:8080/"
        },
        "id": "YVxgdGYU-keH",
        "outputId": "15e8fca4-cfe3-42e6-a188-6a1f6b85a955"
      },
      "execution_count": null,
      "outputs": [
        {
          "output_type": "stream",
          "name": "stdout",
          "text": [
            "(2039,)\n",
            "[ 4  8 12 16 20 24 28 32 36 40 44 48 52 56 60 64 68 72 76 80 84 88 90]\n",
            "2317.0\n"
          ]
        }
      ]
    },
    {
      "cell_type": "code",
      "source": [
        "xBar = [(str(i)+\"'\") for i in x]\n",
        "\n",
        "fig = plt.figure()\n",
        "ax = fig.add_axes([0,0,2,1])\n",
        "ax.set_xlabel('Minuto del Partido')\n",
        "ax.set_ylabel('Cantidad de Goles')\n",
        "ax.bar(xBar, y, color= 'mediumpurple') #color = plt.get_cmap('tab10').colors)\n",
        "plt.show()"
      ],
      "metadata": {
        "colab": {
          "base_uri": "https://localhost:8080/",
          "height": 350
        },
        "id": "JxLWqC5paSTz",
        "outputId": "e1d43a1f-fd72-4b6b-8f35-027cff2bbef4"
      },
      "execution_count": null,
      "outputs": [
        {
          "output_type": "display_data",
          "data": {
            "text/plain": [
              "<Figure size 432x288 with 1 Axes>"
            ],
            "image/png": "[encoded data removed]"
          },
          "metadata": {
            "needs_background": "light"
          }
        }
      ]
    },
    {
      "cell_type": "markdown",
      "source": [
        "5. Hacerlo por separado para la fase de grupos y para la fase de eliminación (todos los partidos posteriores a la fase de grupos)."
      ],
      "metadata": {
        "id": "NKf8iY-flPq3"
      }
    },
    {
      "cell_type": "code",
      "source": [
        "#separando por index los goles\n",
        "#Para hacer un histograma con los goles de todos los que digan Grupos\n",
        "#hago una funcion que diga esPartidoDeGrupo, para usar .apply y descartar a los que no son\n",
        "\n",
        "#en otro DF que sea copia de los goles totales, tomo los indices que si es partido de grupo, y pido que los dropee\n",
        "\n",
        "indiceConGoles = list(losGoles.index)\n",
        "golesYStage = dfPyM.loc[indiceConGoles].copy() #hago una copia de el df que es la union de los dos cvs que tenia\n",
        "#y pido que deje solo los indices donde hubo gol\n",
        "golesYStage = golesYStage.assign(losGoles = list(losGoles)) #le pido que agrege columna con min de goles\n",
        "golesYStage = golesYStage[['Stage', 'losGoles']] #y deja solo la columna de Stage y minConLosGoles\n",
        "\n",
        "def estaEnStageGrupo(s):\n",
        "  if 'Group' in s:\n",
        "    return 1\n",
        "  else:\n",
        "    return 0\n",
        "\n",
        "golesYStage['Stage'] = golesYStage['Stage'].apply(estaEnStageGrupo)\n",
        "\n",
        "golesEnGrupo = golesYStage[golesYStage['Stage'] == 1]\n",
        "golesEnGrupo = golesEnGrupo['losGoles']\n",
        "\n",
        "\n",
        "golesEnFaseEliminacion = golesYStage[golesYStage['Stage'] == 0]\n",
        "golesEnFaseEliminacion = golesEnFaseEliminacion['losGoles']"
      ],
      "metadata": {
        "id": "5c66HoWolq7m"
      },
      "execution_count": null,
      "outputs": []
    },
    {
      "cell_type": "markdown",
      "source": [
        "## En fase de grupos:"
      ],
      "metadata": {
        "id": "8tDNrkZWUWZD"
      }
    },
    {
      "cell_type": "code",
      "source": [
        "x = np.arange(4, 90, 4)\n",
        "x = np.append(x, 90)\n",
        "\n",
        "y = np.zeros(len(x))\n",
        "\n",
        "for i in golesEnGrupo.index:\n",
        "  for k in golesEnGrupo[i]:\n",
        "    for j in np.arange(0,len(x)):\n",
        "      #if (x[j] == 92 and k<90):\n",
        "      if(k <= x[j]):\n",
        "        y[j] = y[j] + 1\n",
        "        break\n",
        "\n",
        "xBar = [(str(i)+\"'\") for i in x]\n",
        "\n",
        "fig = plt.figure()\n",
        "ax = fig.add_axes([0,0,2,1])\n",
        "ax.set_xlabel('Minuto del Partido')\n",
        "ax.set_ylabel('Cantidad de Goles en Fase de Grupos')\n",
        "ax.bar(xBar, y, color = 'lightblue')\n",
        "plt.show()"
      ],
      "metadata": {
        "colab": {
          "base_uri": "https://localhost:8080/",
          "height": 350
        },
        "id": "2qI6zYgHUCE7",
        "outputId": "1c96b216-857b-4441-866b-d25b84bc325b"
      },
      "execution_count": null,
      "outputs": [
        {
          "output_type": "display_data",
          "data": {
            "text/plain": [
              "<Figure size 432x288 with 1 Axes>"
            ],
            "image/png": "[encoded data removed]"
          },
          "metadata": {
            "needs_background": "light"
          }
        }
      ]
    },
    {
      "cell_type": "markdown",
      "source": [
        "## En fase de eliminación:"
      ],
      "metadata": {
        "id": "Sje4xYSRVRVf"
      }
    },
    {
      "cell_type": "code",
      "source": [
        "x = np.arange(4, 90, 4)\n",
        "x = np.append(x, 90)\n",
        "\n",
        "y = np.zeros(len(x))\n",
        "\n",
        "for i in golesEnFaseEliminacion.index:\n",
        "  for k in golesEnFaseEliminacion[i]:\n",
        "    for j in np.arange(0,len(x)):\n",
        "      if(k <= x[j]):\n",
        "        y[j] = y[j] + 1\n",
        "        break\n",
        "\n",
        "xBar = [(str(i)+\"'\") for i in x]\n",
        "\n",
        "fig = plt.figure()\n",
        "ax = fig.add_axes([0,0,2,1])\n",
        "ax.set_xlabel('Minuto del Partido')\n",
        "ax.set_ylabel('Cantidad de Goles en Fase de Eliminación')\n",
        "ax.bar(xBar, y, color = 'pink')\n",
        "plt.show()"
      ],
      "metadata": {
        "colab": {
          "base_uri": "https://localhost:8080/",
          "height": 350
        },
        "id": "6cBy9wFRVJIe",
        "outputId": "48b554a0-9978-44ab-841a-4989ddf6c7d3"
      },
      "execution_count": null,
      "outputs": [
        {
          "output_type": "display_data",
          "data": {
            "text/plain": [
              "<Figure size 432x288 with 1 Axes>"
            ],
            "image/png": "[encoded data removed]"
          },
          "metadata": {
            "needs_background": "light"
          }
        }
      ]
    },
    {
      "cell_type": "markdown",
      "source": [
        "# Cuarta consigna\n",
        "\n",
        "6. Para los partidos en los que hubo al menos algún gol, obtener el tiempo que transcurrió hasta el primer gol. Hacer un histograma de la distribución de estos valores.\n"
      ],
      "metadata": {
        "id": "DRUVwAA3lrQZ"
      }
    },
    {
      "cell_type": "code",
      "source": [
        "#al menos un gol\n",
        "#1ero filtrar por al menos un gol\n",
        "indiceConGoles = list(losGoles.index)\n",
        "playersQueHicieronGol = dfPyM.loc[indiceConGoles].copy()\n",
        "playersQueHicieronGol = playersQueHicieronGol.assign(losGoles = list(losGoles))\n",
        "#filtrar 1er gol del partido\n",
        "#ver por cada matchID, cual es el losGoles valor mas chico (es decir, 1er gol del partido)\n",
        "matchIDConGol = list(playersQueHicieronGol['MatchID'].unique())\n",
        "\n",
        "\n",
        "primerosGoles = []\n",
        "\n",
        "for i in matchIDConGol:\n",
        "  partido = playersQueHicieronGol[playersQueHicieronGol['MatchID'] == i]\n",
        "  temp = list(partido['losGoles'])\n",
        "  tDeGolesEnPartidoI = []\n",
        "  for j in temp:\n",
        "    for k in j:\n",
        "      tDeGolesEnPartidoI.append(k) #hago una unica lista por partido de los min en cuando se anotó un gol\n",
        "  #y pido que por cada partido, agrege a la lista 'primerosGoles', el mínimo de los minutos en los que sucedió un gol\n",
        "  primerosGoles.append(min(tDeGolesEnPartidoI))\n"
      ],
      "metadata": {
        "id": "7kkqVKpPltLR"
      },
      "execution_count": null,
      "outputs": []
    },
    {
      "cell_type": "code",
      "source": [
        "fig = plt.figure()\n",
        "ax = fig.add_axes([0,0,1.5,1])\n",
        "ax.set_ylabel('Frecuencia')\n",
        "ax.set_xlabel('Minutos para el 1° gol')\n",
        "ax.hist(primerosGoles, bins = 45, range=[0, max(primerosGoles)], color = 'royalblue') #dist normal?\n",
        "\n",
        "media1 = np.mean(primerosGoles)\n",
        "mediana1 = np.median(primerosGoles)\n",
        "ax.vlines(media1, ymin = 0, ymax = 60, linewidth = 3, linestyle = '--', alpha = 0.65, color = 'crimson', label = 'Media')\n",
        "ax.vlines(mediana1, ymin = 0, ymax = 60, linewidth = 3, linestyle = '--', alpha = 0.65, color = 'black', label = 'Mediana')\n",
        "plt.legend()\n",
        "plt.show()\n",
        "\n",
        "print('Media: '+str(media1))\n",
        "print('Mediana: '+str(mediana1))"
      ],
      "metadata": {
        "colab": {
          "base_uri": "https://localhost:8080/",
          "height": 386
        },
        "id": "2eU-bf4KBfF7",
        "outputId": "c882046d-5aee-47c7-d546-cb0d2de60d68"
      },
      "execution_count": null,
      "outputs": [
        {
          "output_type": "display_data",
          "data": {
            "text/plain": [
              "<Figure size 432x288 with 1 Axes>"
            ],
            "image/png": "[encoded data removed]"
          },
          "metadata": {
            "needs_background": "light"
          }
        },
        {
          "output_type": "stream",
          "name": "stdout",
          "text": [
            "Media: 31.011749347258487\n",
            "Mediana: 23.0\n"
          ]
        }
      ]
    },
    {
      "cell_type": "markdown",
      "source": [
        "7. Para los partidos en los que hubo más de un gol, obtener los tiempos transcurridos entre goles. Hacer un histograma de la distribución de estos valores.\n"
      ],
      "metadata": {
        "id": "WQiYvmkmltkl"
      }
    },
    {
      "cell_type": "code",
      "source": [
        "#df partido con mas de un gol\n",
        "\n",
        "#al menos un gol\n",
        "#1ero filtrar por al menos un gol\n",
        "indiceConGoles = list(losGoles.index)\n",
        "playersQueHicieronGol = dfPyM.loc[indiceConGoles].copy()\n",
        "playersQueHicieronGol = playersQueHicieronGol.assign(losGoles = list(losGoles))\n",
        "\n",
        "matchIDConGol = list(playersQueHicieronGol['MatchID'].unique())\n",
        "\n",
        "tEntreGoles = []\n",
        "\n",
        "for i in matchIDConGol: #por cada partido ID\n",
        "  partido = playersQueHicieronGol[playersQueHicieronGol['MatchID'] == i]\n",
        "  temp = list(partido['losGoles']) #obtengo una lista de listas con los min de los goles de ese partido\n",
        "\n",
        "  tDeGolesEnPartidoI = [] #ahora me hago una lista con los min en los que marcó gol en partido i\n",
        "\n",
        "  for j in temp:\n",
        "    for k in j:\n",
        "      tDeGolesEnPartidoI.append(k)\n",
        "\n",
        "  tDeGolesEnPartidoI.sort() #y la ordeno de menor a mayor\n",
        "\n",
        "  if len(tDeGolesEnPartidoI) >= 2: #si hay mas de 1 gol, obtengo la diferencia entre el gol k y el gol k+1\n",
        "\n",
        "    for k in np.arange(0,len(tDeGolesEnPartidoI)-1):\n",
        "      dis = tDeGolesEnPartidoI[k+1] - tDeGolesEnPartidoI[k]\n",
        "      tEntreGoles.append(dis) #y lo agrego a la lista con todos los tiempos entre goles\n",
        "\n",
        "print(len(tEntreGoles))\n"
      ],
      "metadata": {
        "id": "roscFb3UlwPd",
        "colab": {
          "base_uri": "https://localhost:8080/"
        },
        "outputId": "7796b68f-52c0-403d-9d83-8d65984e32ec"
      },
      "execution_count": null,
      "outputs": [
        {
          "output_type": "stream",
          "name": "stdout",
          "text": [
            "1613\n"
          ]
        }
      ]
    },
    {
      "cell_type": "code",
      "source": [
        "fig = plt.figure()\n",
        "ax = fig.add_axes([0,0,1.5,1])\n",
        "#ax.set_ylabel('Cantidad de goles')\n",
        "ax.set_ylabel('Frecuencia')\n",
        "ax.set_xlabel('Minutos entre Goles')#('Tiempos entre Goles')\n",
        "#ax.hist(tEntreGoles, bins = max(tEntreGoles)//5, color = 'pink')#, color=my_cmap(rescale(meanGol)) ) #np.arange(0,max(primerosGoles)+1,5) )\n",
        "ax.hist(tEntreGoles, bins = 45, range=[0, max(tEntreGoles)], color = 'orange') #Tiene pinta de dist Exponencial\n",
        "\n",
        "media2 = np.mean(tEntreGoles)\n",
        "mediana2 = np.median(tEntreGoles)\n",
        "ax.vlines(media2, ymin = 0, ymax = 150, linewidth = 3, linestyle = '--', alpha = 0.65, color = 'mediumblue', label = 'Media')\n",
        "ax.vlines(mediana2, ymin = 0, ymax = 150, linewidth = 3, linestyle = '--', alpha = 0.65, color = 'gray', label = 'Mediana')\n",
        "plt.legend()\n",
        "plt.show()\n",
        "\n",
        "print('Media: '+str(media2))\n",
        "print('Mediana: '+str(mediana2))"
      ],
      "metadata": {
        "colab": {
          "base_uri": "https://localhost:8080/",
          "height": 386
        },
        "id": "lWCrotqST4LI",
        "outputId": "ab46eace-b720-4dad-aeca-53bef15cdffa"
      },
      "execution_count": null,
      "outputs": [
        {
          "output_type": "display_data",
          "data": {
            "text/plain": [
              "<Figure size 432x288 with 1 Axes>"
            ],
            "image/png": "[encoded data removed]"
          },
          "metadata": {
            "needs_background": "light"
          }
        },
        {
          "output_type": "stream",
          "name": "stdout",
          "text": [
            "Media: 18.983261004339738\n",
            "Mediana: 14.0\n"
          ]
        }
      ]
    },
    {
      "cell_type": "markdown",
      "source": [
        "8. ¿Se parecen estas distribuciones a algunas de las que vimos en clase?"
      ],
      "metadata": {
        "id": "TxGTp7n8lwns"
      }
    },
    {
      "cell_type": "markdown",
      "source": [],
      "metadata": {
        "id": "5zd1-LW-3mQK"
      }
    },
    {
      "cell_type": "code",
      "source": [
        "from scipy import stats"
      ],
      "metadata": {
        "id": "_fzjW700lxZi"
      },
      "execution_count": null,
      "outputs": []
    },
    {
      "cell_type": "code",
      "source": [
        "fig, ax = plt.subplots() #fig, ax = plt.subplots(nrows = 1, ncols=2, figsize = (13, 4.5))\n",
        "ax.hist(primerosGoles, bins = 45, range=[0, max(primerosGoles)], color = 'royalblue', rwidth = 0.8, density = True, alpha = 0.50, label = 'Datos')\n",
        "\n",
        "primerosGoles.sort()\n",
        "ax.plot(primerosGoles, stats.expon.pdf(primerosGoles, loc = 0, scale = np.std(primerosGoles)), color = 'r', linewidth = 2, alpha = 0.65, label = 'Dist. Exponencial')\n",
        "\n",
        "ax.set_ylabel('Densidad de Probabilidad')\n",
        "ax.set_xlabel('Minutos para el 1° gol')\n",
        "plt.legend()\n",
        "plt.show()"
      ],
      "metadata": {
        "colab": {
          "base_uri": "https://localhost:8080/",
          "height": 280
        },
        "id": "J2vAZgcH-swU",
        "outputId": "24a1b8a2-8cf5-47cd-9304-c01784533657"
      },
      "execution_count": null,
      "outputs": [
        {
          "output_type": "display_data",
          "data": {
            "text/plain": [
              "<Figure size 432x288 with 1 Axes>"
            ],
            "image/png": "[encoded data removed]"
          },
          "metadata": {
            "needs_background": "light"
          }
        }
      ]
    },
    {
      "cell_type": "markdown",
      "source": [
        "Como sabemos que una variable exponencial es la variable aleatoria con la que se suele modelar tiempo continuo hasta que sucede por primera vez un evento. Tenemos entonces que un histograma de los tiempos hasta el 1er gol, debe entonces comportarse como una exponencial.\n",
        "\n",
        "Las impresiciones que se hay deben ser porque como son partridos, años, jugadores y muchos otros parámetros distintos que están presentes, es por ello no es esperable que quede perfectamente una exponencial, pero a pesar de esto, se parece a esa distribucion.\n",
        "\n",
        "Si fuese la misma variable aleatoria la que generase todas las muestras, alli si deberia quedar perfectamente graficado como una exponencial. Pero como son distintas variables aleatorias, tienen distribuciones exponenciales distintas."
      ],
      "metadata": {
        "id": "CquLGFwSlg-V"
      }
    },
    {
      "cell_type": "code",
      "source": [
        "fig, ax = plt.subplots() #fig, ax = plt.subplots(nrows = 1, ncols=2, figsize = (13, 4.5))\n",
        "ax.hist(tEntreGoles, bins = 45, range=[0, max(tEntreGoles)], color = 'orange', rwidth = 0.8, density = True, alpha = 0.50, label = 'Datos')\n",
        "\n",
        "tEntreGoles.sort()\n",
        "ax.plot(tEntreGoles, stats.poisson.pmf(tEntreGoles, mu = np.mean(tEntreGoles))*0.5, color = 'r', linewidth = 2, alpha = 0.65, label = 'Dist. Exponencial')\n",
        "ax.set_ylabel('Densidad de Probabilidad')\n",
        "ax.set_xlabel('Minutos entre Goles')\n",
        "plt.legend()\n",
        "plt.show()"
      ],
      "metadata": {
        "colab": {
          "base_uri": "https://localhost:8080/",
          "height": 279
        },
        "id": "5N7TAwST7e2f",
        "outputId": "83568de1-976b-4c8a-fb3e-cc0d63f295dd"
      },
      "execution_count": null,
      "outputs": [
        {
          "output_type": "display_data",
          "data": {
            "text/plain": [
              "<Figure size 432x288 with 1 Axes>"
            ],
            "image/png": "[encoded data removed]"
          },
          "metadata": {
            "needs_background": "light"
          }
        }
      ]
    },
    {
      "cell_type": "markdown",
      "source": [
        "Deberia comportarse como un proceso de poisson. Ya que indican cuanto tiempo entre goles salen (continuos e independientes), escalado a 90 min. Donde el tiempo entre gol y gol son variables aleatorias exponenciales, y como acalara la teoria de probabilidad y estadistica: en un proceso de Poisson, la distribucion exponencial es la distribucion de probabilidad del tiempo entre sus eventos (el cual indica que eventos ocurren continua e independientemente a una tasa de promedio constante)\n",
        "\n",
        "\n",
        "\n",
        "\n"
      ],
      "metadata": {
        "id": "FmaB_oIomZps"
      }
    }
  ]
}